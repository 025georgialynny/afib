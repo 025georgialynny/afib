{
 "cells": [
  {
   "cell_type": "code",
   "execution_count": 61,
   "id": "1982f734-a42f-4168-8e59-20b9e82db1fc",
   "metadata": {},
   "outputs": [],
   "source": [
    "import numpy as np\n",
    "import pandas as pd\n",
    "import scipy.io\n",
    "from tqdm import tqdm"
   ]
  },
  {
   "cell_type": "code",
   "execution_count": 34,
   "id": "970a1704-b203-4aca-9930-9a5268619042",
   "metadata": {},
   "outputs": [],
   "source": [
    "samps2017 = pd.read_csv(\"training2017/REFERENCE-v3.csv\", header = None)\n",
    "samps2017.columns = [\"samp\", \"rhythm\"]\n",
    "subsetsize = 5 # in seconds\n",
    "subsetsize = subsetsize*300"
   ]
  },
  {
   "cell_type": "code",
   "execution_count": 49,
   "id": "400866bb-830e-40bf-92d4-3d3402507afe",
   "metadata": {},
   "outputs": [
    {
     "data": {
      "text/plain": [
       "0"
      ]
     },
     "execution_count": 49,
     "metadata": {},
     "output_type": "execute_result"
    }
   ],
   "source": [
    "leftover = 1070\n",
    "len(mat[leftover:])%subsetsize"
   ]
  },
  {
   "cell_type": "code",
   "execution_count": 70,
   "id": "bcf71137-6194-47fb-8a2e-2eaf097ebff5",
   "metadata": {},
   "outputs": [],
   "source": [
    "subset_list = pd.DataFrame({\"subset\": [], \"rhythm\": []})"
   ]
  },
  {
   "cell_type": "code",
   "execution_count": 76,
   "id": "9f2157bd-b211-460f-a89f-37734457a601",
   "metadata": {},
   "outputs": [
    {
     "name": "stderr",
     "output_type": "stream",
     "text": [
      "8528it [03:02, 46.84it/s]\n"
     ]
    }
   ],
   "source": [
    "subset_list = pd.DataFrame({\"subset\": [], \"rhythm\": []})\n",
    "for idx, samp in tqdm(enumerate(samps2017[\"samp\"])):\n",
    "    mat = scipy.io.loadmat(\"training2017/\" + samp + '.mat')['val'][0]\n",
    "    leftover = len(mat)%subsetsize \n",
    "    mat = mat[leftover:]\n",
    "    subsetlist = np.split(mat, (len(mat))/subsetsize)\n",
    "    count = 0\n",
    "    rhythm = samps2017[\"rhythm\"][idx]\n",
    "    for subset in subsetlist:\n",
    "        temp_df = pd.DataFrame(subset)\n",
    "        subset_name = samp + str(count) \n",
    "        temp_df.to_csv('subsets/' + subset_name + \".csv\")\n",
    "        count += 1\n",
    "        subset_list.loc[len(subset_list)] = [subset_name, rhythm]\n",
    "subset_list.to_csv(\"subset_list.csv\")\n",
    "        "
   ]
  }
 ],
 "metadata": {
  "kernelspec": {
   "display_name": "Python 3 (ipykernel)",
   "language": "python",
   "name": "python3"
  },
  "language_info": {
   "codemirror_mode": {
    "name": "ipython",
    "version": 3
   },
   "file_extension": ".py",
   "mimetype": "text/x-python",
   "name": "python",
   "nbconvert_exporter": "python",
   "pygments_lexer": "ipython3",
   "version": "3.9.12"
  }
 },
 "nbformat": 4,
 "nbformat_minor": 5
}
